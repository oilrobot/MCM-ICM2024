import pandas as pd
from lightgbm import LGBMClassifier
import matplotlib.pyplot as plt
from sklearn.metrics import accuracy_score
from sklearn.metrics import f1_score
from sklearn.metrics import recall_score
from sklearn.metrics import precision_score
from xgboost import XGBClassifier
from sklearn.model_selection import train_test_split
from sklearn.model_selection import cross_val_score
from sklearn. svm import SVC
from sklearn.neural_network import MLPClassifier
from sklearn.linear_model import LogisticRegression
df = pd.read_csv( 'Wimbledon_featured matches .csv')
df.loc[(df.p1_score=='AD'), 'p1_score'] = 50
df.loc[(df.p2_score==' AD' ), 'p2_score'] = 50
df['p1_score'] = df['p1_score'].astype(int)
df['p2_score'] = df['p2_score'].astype(int)
df.dropna(subset=['speed_mph' ],inplace=True)
x1_ls,x2_ls,x3_ls,x4_ls,x5_ls,x6_ls,x7_ls,x8_ls,x9_ls,x10_ls,x11_ls,\
x12_ls,x13_ls,x14_ls,x15_ls,x16_ls=[],[],[],[],[],[],[],[],[],[],[],[],[],[],[],[]
label_ls =[]
for match_id,set_no,game_no,point_no in zip(df.match_id,df.set_no,df.game_no,df.point_no):
    match = df[df.match_id==match_id]
    set_ = match[match.set_no==set_no]
    game_ = set_[set_.game_no==game_no]
    point_ = game_[game_.point_no==point_no]
    x1 = point_['p1_games'].values[0]
    x2 = point_['p1_score'].values[0] - point_['p2 score'].values[0]
    x3 = 1 if point_['serve no'].values[0] == 1 else 0
    x4 = 0 if x2<0 else 1
    x5 = point_['p1_sets'].values[0] - point_['p2_sets'].values[0]
    x6 = 1 if 1 in game_['p1_ace'].values else 0
    x7 = 1 if 1 in game_['pi winner'].values else 0
    x8 = 1 if 1 in game_['pi double fault'].values else 0
    x9 = 1 if 1 in game_['pl unf err'].values else 0
    x10 = game_['p1_net_pt_won'].sum()/game_['p1_net_pt'].sum() if game_['p1_net_pt'].sum()!= 0 else 0
    x11 = set_['p1_breakpt_won'].sum()/set_['p1_break_pt'].sum() if game_['p1_break_pt'].sum()!= 0 else 0
    index = match.index.tolist().index(point_.index.tolist()[0])
    x12 = match.iloc[:index+1]['p1_distance_run'].sum()
    x13 = match.iloc[index-2:index+1]['p1_distance_run'].sum()
    x14 = point_['p1_distance_run'].values[0]
    x15 = point_["speed_mph"].values[0]
    x16 = x15*x3
    label = 1 if point_['point_victor'].values[0] == 1 else 0
    label_ls.append(label)
    x1_ls.append(x1)
    x2_ls.append(x2)
    x3_ls.append(x3)
    x4_ls.append(x4)
    x5_ls.append(x5)
    x6_ls.append(x6)
    x7_ls.append(x7)
    x8_ls.append(x8)
    x9_ls.append(x9)
    x10_ls.append(x10)
    x11_ls.append(x11)
    x12_ls.append(x12)
    x13_ls.append(x13)
    x14_ls.append(x14)
    x15_ls.append(x15)
    x16_ls.append(x16)

# dataset : pd.Dataframe({'x1':x1_ls,'x2':x2_ls,'x3':x3_ls,'x4':x4_ls,'x5':x5_ls,'x6':x6_ls,'x7':x7_ls,'x9':x9_ls,'x10':x10_ls,'x11':x11_ls,'x12':x12_ls,'x13':x13_ls,'x14':x14_ls,'x15':x15_ls,'x16':x16_ls})
# dataset
from sklearn.preprocessing import MinMaxScaler
scaler = MinMaxScaler()
columns = dataset .columns[:-1]
scaler.fit(dataset[columns].values)
dataset[columns] = scaler.transform(dataset[columns].values)
dataset.to_excel('标准化训练数据.xIsx',index=False)


"""
检验
import warnings
warnings .filterwarnings("ignore")

def function(model):
    auc = round(cross_val_score(model,dataset[columns].values,dataset['label'].values, cv=5,scoring='roc auc').mean(),2)acc = round(cross_val_score(model,dataset[columns).values,dataset['label'].values, Cv=5,scoring='accuracy').mean(),2)recall : round(cross_val_score(model,datasetcolumns].values,dataset['label'J.values, (v=5,scoring='recal1').mean(),2)precision = round(cross_val_score(model,dataset[columns].values,dataset['label'values, Cv=5,scoring='precision').mean(),2)f1 : round(cross_val_score(model,dataset[columns].values,dataset['label'].values, Cv=5,scoring='f1').mean(),2)return acc,recall,precision,f1,auc
model = LGBMClassifier(random state=30,force col wise=True)print(f'LGBMClassifier acc,recall,precision,f1,auc :(function(model)}')
nodel = XGBClassifier(random state=50)
orint(f'XGBClassifier acc,recall,precision,f1,auc :(function(model))')
model = SVC(random state=5e)
orint(f'svCacc.recall.precision.f1.auc:ffunction(model)l')


"""

index = df[df.match_id=='2023-wimbledon-1701'].reset_index(drop=True).index
test = dataset.iloc[index]
train = dataset.drop(index,axis=0)
model = LGBMClassifier(random_state=30)
model.fit(train[columns].values,train['label'].values)
pred = model.predict_proba(test[columns].values)
pred = pd.DataFrame({'实时得分':pred[:,0]})
## 导入会使用到的库
%config InlineBackend.figure_format = 'retina'
%matplotlib inline
import seaborn as sns
sns .set(font= "simhei",style="whitegrid",font_scale=1.6)
import matplotlib
matplotlib.rcParams['axes .unicode minus']=False
import matplotlib.pyplot as plt
import plotly.express as px
pred.plot(kind ="line",figsize = (12,6)) #做色,matplotlib
plt.xticks(rotation=0)
plt.xlabel("Points")
plt .ylabel("Performance")
plt.savefig('问题1\\经典对决实时走势.png',dpi=500)
plt .show()